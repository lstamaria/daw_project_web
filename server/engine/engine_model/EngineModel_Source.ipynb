{
 "cells": [
  {
   "cell_type": "code",
   "execution_count": 1,
   "metadata": {
    "ExecuteTime": {
     "end_time": "2018-11-15T15:21:55.164065Z",
     "start_time": "2018-11-15T15:21:54.128977Z"
    },
    "collapsed": true
   },
   "outputs": [],
   "source": [
    "import pandas as pd\n",
    "import numpy as np\n",
    "\n",
    "from sklearn.linear_model import LogisticRegression\n",
    "from sklearn.model_selection import train_test_split\n",
    "import time\n",
    "\n",
    "import csv\n",
    "import os.path\n",
    "\n",
    "import json"
   ]
  },
  {
   "cell_type": "code",
   "execution_count": 2,
   "metadata": {
    "ExecuteTime": {
     "end_time": "2018-11-15T15:21:55.227495Z",
     "start_time": "2018-11-15T15:21:55.193401Z"
    }
   },
   "outputs": [],
   "source": [
    "# Prepare data set\n",
    "dummy = pd.read_csv('../../data/menu.csv')\n",
    "df = dummy.copy()\n",
    "df.drop(columns=['Item', 'Serving Size'], inplace=True)"
   ]
  },
  {
   "cell_type": "code",
   "execution_count": 3,
   "metadata": {
    "ExecuteTime": {
     "end_time": "2018-11-15T15:21:55.990801Z",
     "start_time": "2018-11-15T15:21:55.984191Z"
    },
    "collapsed": true
   },
   "outputs": [],
   "source": [
    "# Process target labels into numeric\n",
    "df2 = df.copy()\n",
    "from sklearn.preprocessing import LabelEncoder\n",
    "class_le = LabelEncoder()\n",
    "y = class_le.fit_transform(df['Category'].values)\n",
    "df2['y'] = y"
   ]
  },
  {
   "cell_type": "code",
   "execution_count": 4,
   "metadata": {
    "ExecuteTime": {
     "end_time": "2018-11-15T15:21:56.598271Z",
     "start_time": "2018-11-15T15:21:56.576324Z"
    }
   },
   "outputs": [
    {
     "data": {
      "text/plain": [
       "array([1.00000000e-01, 4.64158883e-01, 2.15443469e+00, 1.00000000e+01,\n",
       "       4.64158883e+01, 2.15443469e+02, 1.00000000e+03, 4.64158883e+03,\n",
       "       2.15443469e+04, 1.00000000e+05])"
      ]
     },
     "execution_count": 4,
     "metadata": {},
     "output_type": "execute_result"
    }
   ],
   "source": [
    "c_start = -1\n",
    "c_end =  5\n",
    "np.logspace(c_start, c_end, 10)"
   ]
  },
  {
   "cell_type": "code",
   "execution_count": 9,
   "metadata": {
    "ExecuteTime": {
     "end_time": "2018-11-15T15:23:33.223305Z",
     "start_time": "2018-11-15T15:23:33.189954Z"
    }
   },
   "outputs": [],
   "source": [
    "# Build model\n",
    "def build_model(itera, size, norm, random, param_c):\n",
    "    \"\"\"\n",
    "    Build model of prediction.\n",
    "\n",
    "    Parameters\n",
    "    ----------\n",
    "    submit: str\n",
    "        Click to run model\n",
    "    itera: int\n",
    "        Number of iteration\n",
    "    size : int\n",
    "        Size of test set\n",
    "    norm : int\n",
    "        Regularization\n",
    "    random : int\n",
    "        Condition for random_state\n",
    "\n",
    "    Returns\n",
    "    -------\n",
    "    list\n",
    "        Text and graph output\n",
    "\n",
    "    \"\"\"\n",
    "\n",
    "    X = df.drop('Category', axis=1)\n",
    "    y = df['Category']\n",
    "\n",
    "#     listC = [1e-8, 1e-4, 1e-3, 1e-2, 0.1,\n",
    "#     0.2, 0.4, 0.75, 1, 1.5, 3, 5, 10, 15,  20, 100, 300, 1000, 5000]\n",
    "\n",
    "\n",
    "        listC = [1e-8, 1e-4, 1e-3, 1e-2, 0.1,\n",
    "             0.2, 0.4, 0.75, 1, 1.5, 3, 5, 10, 15,  20, 100, 300, 1000, 5000]\n",
    "\n",
    "        C = []\n",
    "        for i in listC:\n",
    "            C.append(i)\n",
    "            if i == param_c:\n",
    "                break\n",
    "\n",
    "    score_train = []\n",
    "    score_test = []\n",
    "    weighted_coefs = []\n",
    "    time_train = []\n",
    "    time_predict = []\n",
    "\n",
    "    for seed in range(itera):\n",
    "        if random == 'Yes':\n",
    "            X_train, X_test, y_train, y_test = train_test_split(\n",
    "                X, y, test_size=size, random_state=seed)\n",
    "        else:\n",
    "            X_train, X_test, y_train, y_test = train_test_split(\n",
    "                X, y, test_size=size, random_state=1)\n",
    "\n",
    "        acc_train = []\n",
    "        acc_test = []\n",
    "        tm_train = []\n",
    "        tm_predict = []\n",
    "\n",
    "        for alpha_run in C:\n",
    "            lr = LogisticRegression(C=alpha_run, penalty=norm)\n",
    "\n",
    "            time_train_start = time.time()\n",
    "            lr.fit(X_train, y_train)\n",
    "            time_train_end = time.time()\n",
    "\n",
    "            if alpha_run == 0.1:\n",
    "                coefs = lr.coef_\n",
    "                weighted_coefs.append(coefs)\n",
    "\n",
    "            time_predict_start = time.time()\n",
    "            lr.predict(X_test)\n",
    "            time_predict_end = time.time()\n",
    "\n",
    "            acc_train.append(lr.score(X_train, y_train))\n",
    "            acc_test.append(lr.score(X_test, y_test))\n",
    "            tm_train.append(time_train_end - time_train_start)\n",
    "            tm_predict.append(time_predict_end - time_predict_start)\n",
    "\n",
    "        score_train.append(acc_train)\n",
    "        score_test.append(acc_test)\n",
    "        time_train.append(tm_train)\n",
    "        time_predict.append(tm_predict)\n",
    "\n",
    "    mean_coefs = np.mean(weighted_coefs, axis=0)\n",
    "    scoret = np.mean(score_train, axis=0)\n",
    "    score = np.mean(score_test, axis=0)\n",
    "    timet = np.mean(time_train, axis=0)\n",
    "    timep = np.mean(time_predict, axis=0)\n",
    "\n",
    "    top_predictor = X.columns[np.argmax(np.abs(mean_coefs))]\n",
    "    abs_mean_coefs = np.abs(mean_coefs[0, :])\n",
    "    coefs_count = len(abs_mean_coefs)\n",
    "\n",
    "    return {\n",
    "        \"description\": [\n",
    "            'Logistic({0})'.format(norm),\n",
    "            'Accuracy: {0:.2%}'.format(np.amax(score)),\n",
    "            'C: {0}'.format(C[np.argmax(score)]),\n",
    "            'Top predictor:{0}'.format(top_predictor),\n",
    "            'Training time: {0:.4f} sec'.format(np.amax(timet)),\n",
    "            'Testing time: {0:.4f} sec'.format(np.amax(timep))],\n",
    "        \"scoret_x\": [i for i in range(len(scoret))],\n",
    "        \"scoret_y\": list(scoret),\n",
    "        \"score_x\": [i for i in range(len(scoret))],\n",
    "        \"score_y\": list(score),\n",
    "        \"coefs_x\": list(X.columns[np.argsort(abs_mean_coefs)]),\n",
    "        \"coefs_y\": sorted(abs_mean_coefs),\n",
    "    }"
   ]
  },
  {
   "cell_type": "code",
   "execution_count": 7,
   "metadata": {
    "ExecuteTime": {
     "end_time": "2018-11-15T15:23:04.060252Z",
     "start_time": "2018-11-15T15:23:04.046870Z"
    }
   },
   "outputs": [
    {
     "data": {
      "text/plain": [
       "[1e-08, 0.0001, 0.001, 0.01, 0.1, 0.2, 0.4, 0.75, 1, 1.5, 3, 5, 10, 15, 20]"
      ]
     },
     "execution_count": 7,
     "metadata": {},
     "output_type": "execute_result"
    }
   ],
   "source": [
    "param_c = 20\n",
    "\n",
    "listC = [1e-8, 1e-4, 1e-3, 1e-2, 0.1, \n",
    "     0.2, 0.4, 0.75, 1, 1.5, 3, 5, 10, 15,  20, 100, 300, 1000, 5000]\n",
    "\n",
    "C = []\n",
    "for i in listC:\n",
    "    C.append(i)\n",
    "    if i == param_c:\n",
    "        break\n",
    "        \n",
    "C       "
   ]
  },
  {
   "cell_type": "code",
   "execution_count": 18,
   "metadata": {
    "ExecuteTime": {
     "end_time": "2018-11-15T15:42:49.271688Z",
     "start_time": "2018-11-15T15:42:42.218073Z"
    },
    "scrolled": true
   },
   "outputs": [
    {
     "data": {
      "text/plain": [
       "{'description': ['Logistic(l1)',\n",
       "  'Accuracy: 86.15%',\n",
       "  'C: 0.4',\n",
       "  'Top predictor:Iron (% Daily Value)',\n",
       "  'Training time: 1.2468 sec',\n",
       "  'Testing time: 0.0005 sec'],\n",
       " 'scoret_x': [0, 1, 2, 3, 4, 5, 6, 7, 8, 9, 10, 11, 12, 13, 14, 15],\n",
       " 'scoret_y': [0.046153846153846156,\n",
       "  0.43846153846153846,\n",
       "  0.4846153846153846,\n",
       "  0.49230769230769234,\n",
       "  0.8153846153846154,\n",
       "  0.8769230769230769,\n",
       "  0.9307692307692308,\n",
       "  0.9384615384615385,\n",
       "  0.9615384615384616,\n",
       "  0.9615384615384616,\n",
       "  0.9692307692307692,\n",
       "  0.9769230769230769,\n",
       "  0.9769230769230769,\n",
       "  0.9846153846153847,\n",
       "  0.9846153846153847,\n",
       "  0.9846153846153847],\n",
       " 'score_x': [0, 1, 2, 3, 4, 5, 6, 7, 8, 9, 10, 11, 12, 13, 14, 15],\n",
       " 'score_y': [0.06923076923076923,\n",
       "  0.4461538461538462,\n",
       "  0.49230769230769234,\n",
       "  0.5384615384615384,\n",
       "  0.8,\n",
       "  0.8538461538461538,\n",
       "  0.8615384615384616,\n",
       "  0.8461538461538461,\n",
       "  0.8384615384615385,\n",
       "  0.8307692307692308,\n",
       "  0.823076923076923,\n",
       "  0.8,\n",
       "  0.7923076923076923,\n",
       "  0.7692307692307693,\n",
       "  0.7538461538461538,\n",
       "  0.7307692307692307],\n",
       " 'coefs_x': ['Sodium (% Daily Value)',\n",
       "  'Total Fat',\n",
       "  'Total Fat (% Daily Value)',\n",
       "  'Saturated Fat',\n",
       "  'Trans Fat',\n",
       "  'Cholesterol (% Daily Value)',\n",
       "  'Calcium (% Daily Value)',\n",
       "  'Protein',\n",
       "  'Carbohydrates (% Daily Value)',\n",
       "  'Dietary Fiber',\n",
       "  'Dietary Fiber (% Daily Value)',\n",
       "  'Sugars',\n",
       "  'Sodium',\n",
       "  'Calories from Fat',\n",
       "  'Cholesterol',\n",
       "  'Vitamin C (% Daily Value)',\n",
       "  'Calories',\n",
       "  'Vitamin A (% Daily Value)',\n",
       "  'Saturated Fat (% Daily Value)',\n",
       "  'Carbohydrates',\n",
       "  'Iron (% Daily Value)'],\n",
       " 'coefs_y': [0.0,\n",
       "  0.0,\n",
       "  0.0,\n",
       "  0.0,\n",
       "  0.0,\n",
       "  0.0,\n",
       "  0.0,\n",
       "  0.0,\n",
       "  0.0,\n",
       "  0.0,\n",
       "  0.0,\n",
       "  0.0,\n",
       "  0.0014563711328034832,\n",
       "  0.0021475223486425925,\n",
       "  0.006453352402943518,\n",
       "  0.007270252178574909,\n",
       "  0.013228611431516227,\n",
       "  0.054906572378809596,\n",
       "  0.060006788180682634,\n",
       "  0.10940296665754667,\n",
       "  0.4621863538024341]}"
      ]
     },
     "execution_count": 18,
     "metadata": {},
     "output_type": "execute_result"
    }
   ],
   "source": [
    "build_model(itera=1, size=0.5, norm=\"l1\", random=\"Yes\", param_c=100)"
   ]
  },
  {
   "cell_type": "code",
   "execution_count": 25,
   "metadata": {
    "ExecuteTime": {
     "end_time": "2018-11-16T09:50:57.156043Z",
     "start_time": "2018-11-16T09:50:57.148434Z"
    }
   },
   "outputs": [
    {
     "data": {
      "text/plain": [
       "array(['Breakfast', 'Beef & Pork', 'Chicken & Fish', 'Salads',\n",
       "       'Snacks & Sides', 'Desserts', 'Beverages', 'Coffee & Tea',\n",
       "       'Smoothies & Shakes'], dtype=object)"
      ]
     },
     "execution_count": 25,
     "metadata": {},
     "output_type": "execute_result"
    }
   ],
   "source": [
    "df['Category'].unique()"
   ]
  },
  {
   "cell_type": "code",
   "execution_count": 23,
   "metadata": {
    "ExecuteTime": {
     "end_time": "2018-11-16T09:45:25.334205Z",
     "start_time": "2018-11-16T09:45:25.323833Z"
    }
   },
   "outputs": [
    {
     "data": {
      "text/plain": [
       "array([15, 27, 42, 27, 95,  7,  6, 28, 13])"
      ]
     },
     "execution_count": 23,
     "metadata": {},
     "output_type": "execute_result"
    }
   ],
   "source": [
    "df.groupby(['Category'])['Calories'].count().values"
   ]
  },
  {
   "cell_type": "code",
   "execution_count": null,
   "metadata": {
    "collapsed": true
   },
   "outputs": [],
   "source": []
  }
 ],
 "metadata": {
  "kernelspec": {
   "display_name": "Python [conda env:ml-env]",
   "language": "python",
   "name": "conda-env-ml-env-py"
  },
  "language_info": {
   "codemirror_mode": {
    "name": "ipython",
    "version": 3
   },
   "file_extension": ".py",
   "mimetype": "text/x-python",
   "name": "python",
   "nbconvert_exporter": "python",
   "pygments_lexer": "ipython3",
   "version": "3.6.6"
  },
  "latex_envs": {
   "LaTeX_envs_menu_present": true,
   "autoclose": false,
   "autocomplete": true,
   "bibliofile": "biblio.bib",
   "cite_by": "apalike",
   "current_citInitial": 1,
   "eqLabelWithNumbers": true,
   "eqNumInitial": 1,
   "hotkeys": {
    "equation": "Ctrl-E",
    "itemize": "Ctrl-I"
   },
   "labels_anchors": false,
   "latex_user_defs": false,
   "report_style_numbering": false,
   "user_envs_cfg": false
  },
  "toc": {
   "nav_menu": {},
   "number_sections": true,
   "sideBar": true,
   "skip_h1_title": false,
   "title_cell": "Table of Contents",
   "title_sidebar": "Contents",
   "toc_cell": false,
   "toc_position": {},
   "toc_section_display": true,
   "toc_window_display": false
  },
  "varInspector": {
   "cols": {
    "lenName": 16,
    "lenType": 16,
    "lenVar": 40
   },
   "kernels_config": {
    "python": {
     "delete_cmd_postfix": "",
     "delete_cmd_prefix": "del ",
     "library": "var_list.py",
     "varRefreshCmd": "print(var_dic_list())"
    },
    "r": {
     "delete_cmd_postfix": ") ",
     "delete_cmd_prefix": "rm(",
     "library": "var_list.r",
     "varRefreshCmd": "cat(var_dic_list()) "
    }
   },
   "types_to_exclude": [
    "module",
    "function",
    "builtin_function_or_method",
    "instance",
    "_Feature"
   ],
   "window_display": false
  }
 },
 "nbformat": 4,
 "nbformat_minor": 2
}
