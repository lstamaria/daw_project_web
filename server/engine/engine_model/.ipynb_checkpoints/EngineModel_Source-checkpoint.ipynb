{
 "cells": [
  {
   "cell_type": "code",
   "execution_count": 160,
   "metadata": {
    "ExecuteTime": {
     "end_time": "2018-11-15T10:55:24.807351Z",
     "start_time": "2018-11-15T10:55:24.798812Z"
    },
    "collapsed": true
   },
   "outputs": [],
   "source": [
    "import pandas as pd\n",
    "import numpy as np\n",
    "\n",
    "from sklearn.linear_model import LogisticRegression\n",
    "from sklearn.model_selection import train_test_split\n",
    "import time\n",
    "\n",
    "import csv\n",
    "import os.path\n",
    "\n",
    "import json"
   ]
  },
  {
   "cell_type": "code",
   "execution_count": 161,
   "metadata": {
    "ExecuteTime": {
     "end_time": "2018-11-15T10:55:25.688912Z",
     "start_time": "2018-11-15T10:55:25.660367Z"
    }
   },
   "outputs": [],
   "source": [
    "# Prepare data set\n",
    "dummy = pd.read_csv('../../data/menu.csv')\n",
    "df = dummy.copy()\n",
    "df.drop(columns=['Item', 'Serving Size'], inplace=True)"
   ]
  },
  {
   "cell_type": "code",
   "execution_count": 162,
   "metadata": {
    "ExecuteTime": {
     "end_time": "2018-11-15T10:55:26.279712Z",
     "start_time": "2018-11-15T10:55:26.272648Z"
    },
    "collapsed": true
   },
   "outputs": [],
   "source": [
    "# Process target labels into numeric\n",
    "df2 = df.copy()\n",
    "from sklearn.preprocessing import LabelEncoder\n",
    "class_le = LabelEncoder()\n",
    "y = class_le.fit_transform(df['Category'].values)\n",
    "df2['y'] = y"
   ]
  },
  {
   "cell_type": "code",
   "execution_count": 180,
   "metadata": {
    "ExecuteTime": {
     "end_time": "2018-11-15T14:38:43.160349Z",
     "start_time": "2018-11-15T14:38:43.144802Z"
    }
   },
   "outputs": [
    {
     "data": {
      "text/plain": [
       "array([1.00000000e-05, 1.29154967e-04, 1.66810054e-03, 2.15443469e-02,\n",
       "       2.78255940e-01, 3.59381366e+00, 4.64158883e+01, 5.99484250e+02,\n",
       "       7.74263683e+03, 1.00000000e+05])"
      ]
     },
     "execution_count": 180,
     "metadata": {},
     "output_type": "execute_result"
    }
   ],
   "source": [
    "c_start = -5\n",
    "c_end =  5\n",
    "np.logspace(c_start, c_end, 10)"
   ]
  },
  {
   "cell_type": "code",
   "execution_count": 178,
   "metadata": {
    "ExecuteTime": {
     "end_time": "2018-11-15T14:38:20.293859Z",
     "start_time": "2018-11-15T14:38:20.271692Z"
    },
    "collapsed": true
   },
   "outputs": [],
   "source": [
    "# Build model\n",
    "def build_model(itera, size, norm, random, c_start, c_end):\n",
    "    \"\"\"\n",
    "    Build model of prediction.\n",
    "\n",
    "    Parameters\n",
    "    ----------\n",
    "    submit: str\n",
    "        Click to run model\n",
    "    itera: int\n",
    "        Number of iteration\n",
    "    size : int\n",
    "        Size of test set\n",
    "    norm : int\n",
    "        Regularization\n",
    "    random : int\n",
    "        Condition for random_state\n",
    "\n",
    "    Returns\n",
    "    -------\n",
    "    list\n",
    "        Text and graph output\n",
    "\n",
    "    \"\"\"\n",
    "\n",
    "    X = df.drop('Category', axis=1)\n",
    "    y = df['Category']\n",
    "\n",
    "    #C = [1e-8, 1e-4, 1e-3, 1e-2, 0.1, 0.2, 0.4, 0.75,\n",
    "    #     1, 1.5, 3, 5, 10, 15,  20, 100, 300, 1000, 5000]\n",
    "    \n",
    "    #C = np.logspace(c_start, c_end, 10)\n",
    "    \n",
    "    C = [0.75,\n",
    "         1]\n",
    "\n",
    "    score_train = []\n",
    "    score_test = []\n",
    "    weighted_coefs = []\n",
    "    time_train = []\n",
    "    time_predict = []\n",
    "\n",
    "    for seed in range(itera):\n",
    "        if random == 'Yes':\n",
    "            X_train, X_test, y_train, y_test = train_test_split(\n",
    "                X, y, test_size=size, random_state=seed)\n",
    "        else:\n",
    "            X_train, X_test, y_train, y_test = train_test_split(\n",
    "                X, y, test_size=size, random_state=1)\n",
    "\n",
    "        acc_train = []\n",
    "        acc_test = []\n",
    "        tm_train = []\n",
    "        tm_predict = []\n",
    "\n",
    "        for alpha_run in C:\n",
    "            lr = LogisticRegression(C=alpha_run, penalty=norm)\n",
    "\n",
    "            time_train_start = time.time()\n",
    "            lr.fit(X_train, y_train)\n",
    "            time_train_end = time.time()\n",
    "\n",
    "            if alpha_run == 0.1:\n",
    "                coefs = lr.coef_\n",
    "                weighted_coefs.append(coefs)\n",
    "\n",
    "            time_predict_start = time.time()\n",
    "            lr.predict(X_test)\n",
    "            time_predict_end = time.time()\n",
    "\n",
    "            acc_train.append(lr.score(X_train, y_train))\n",
    "            acc_test.append(lr.score(X_test, y_test))\n",
    "            tm_train.append(time_train_end - time_train_start)\n",
    "            tm_predict.append(time_predict_end - time_predict_start)\n",
    "\n",
    "        score_train.append(acc_train)\n",
    "        score_test.append(acc_test)\n",
    "        time_train.append(tm_train)\n",
    "        time_predict.append(tm_predict)\n",
    "\n",
    "    mean_coefs = np.mean(weighted_coefs, axis=0)\n",
    "    scoret = np.mean(score_train, axis=0)\n",
    "    score = np.mean(score_test, axis=0)\n",
    "    timet = np.mean(time_train, axis=0)\n",
    "    timep = np.mean(time_predict, axis=0)\n",
    "\n",
    "    top_predictor = X.columns[np.argmax(np.abs(mean_coefs))]\n",
    "    abs_mean_coefs = np.abs(mean_coefs[0, :])\n",
    "    coefs_count = len(abs_mean_coefs)\n",
    "\n",
    "    return {\n",
    "        \"description\":[\n",
    "            'Logistic({0})'.format(norm),\n",
    "            'Accuracy: {0:.2%}'.format(np.amax(score)),\n",
    "            'C: {0:.2}'.format(C[np.argmax(score)]),\n",
    "            'Top predictor:{0}'.format(top_predictor),\n",
    "            'Training time: {0:.4f} sec'.format(np.amax(timet)),\n",
    "            'Testing time: {0:.4f} sec'.format(np.amax(timep))],\n",
    "        \"scoret_x\": [i for i in range(len(scoret))],\n",
    "        \"scoret_y\": list(scoret),\n",
    "        \"score_x\": [i for i in range(len(scoret))],\n",
    "        \"score_y\": list(score),\n",
    "        \"coefs_x\": list(X.columns[np.argsort(abs_mean_coefs)]),\n",
    "        \"coefs_y\": sorted(abs_mean_coefs),\n",
    "    }"
   ]
  },
  {
   "cell_type": "code",
   "execution_count": 179,
   "metadata": {
    "ExecuteTime": {
     "end_time": "2018-11-15T14:38:25.729380Z",
     "start_time": "2018-11-15T14:38:25.317123Z"
    },
    "scrolled": true
   },
   "outputs": [
    {
     "name": "stderr",
     "output_type": "stream",
     "text": [
      "/home/lorenzo/anaconda/envs/ml-env/lib/python3.6/site-packages/numpy/core/fromnumeric.py:2920: RuntimeWarning: Mean of empty slice.\n",
      "  out=out, **kwargs)\n",
      "/home/lorenzo/anaconda/envs/ml-env/lib/python3.6/site-packages/numpy/core/_methods.py:85: RuntimeWarning: invalid value encountered in double_scalars\n",
      "  ret = ret.dtype.type(ret / rcount)\n"
     ]
    },
    {
     "ename": "IndexError",
     "evalue": "invalid index to scalar variable.",
     "output_type": "error",
     "traceback": [
      "\u001b[0;31m---------------------------------------------------------------------------\u001b[0m",
      "\u001b[0;31mIndexError\u001b[0m                                Traceback (most recent call last)",
      "\u001b[0;32m<ipython-input-179-f8c390fb08f5>\u001b[0m in \u001b[0;36m<module>\u001b[0;34m()\u001b[0m\n\u001b[0;32m----> 1\u001b[0;31m \u001b[0mbuild_model\u001b[0m\u001b[0;34m(\u001b[0m\u001b[0mitera\u001b[0m\u001b[0;34m=\u001b[0m\u001b[0;36m1\u001b[0m\u001b[0;34m,\u001b[0m \u001b[0msize\u001b[0m\u001b[0;34m=\u001b[0m\u001b[0;36m0.25\u001b[0m\u001b[0;34m,\u001b[0m \u001b[0mnorm\u001b[0m\u001b[0;34m=\u001b[0m\u001b[0;34m\"l2\"\u001b[0m\u001b[0;34m,\u001b[0m \u001b[0mrandom\u001b[0m\u001b[0;34m=\u001b[0m\u001b[0;34m\"Yes\"\u001b[0m\u001b[0;34m,\u001b[0m \u001b[0mc_start\u001b[0m\u001b[0;34m=\u001b[0m\u001b[0;34m-\u001b[0m\u001b[0;36m5\u001b[0m\u001b[0;34m,\u001b[0m \u001b[0mc_end\u001b[0m\u001b[0;34m=\u001b[0m\u001b[0;36m5\u001b[0m\u001b[0;34m)\u001b[0m\u001b[0;34m\u001b[0m\u001b[0m\n\u001b[0m",
      "\u001b[0;32m<ipython-input-178-ef6e0fd8c452>\u001b[0m in \u001b[0;36mbuild_model\u001b[0;34m(itera, size, norm, random, c_start, c_end)\u001b[0m\n\u001b[1;32m     83\u001b[0m \u001b[0;34m\u001b[0m\u001b[0m\n\u001b[1;32m     84\u001b[0m     \u001b[0mtop_predictor\u001b[0m \u001b[0;34m=\u001b[0m \u001b[0mX\u001b[0m\u001b[0;34m.\u001b[0m\u001b[0mcolumns\u001b[0m\u001b[0;34m[\u001b[0m\u001b[0mnp\u001b[0m\u001b[0;34m.\u001b[0m\u001b[0margmax\u001b[0m\u001b[0;34m(\u001b[0m\u001b[0mnp\u001b[0m\u001b[0;34m.\u001b[0m\u001b[0mabs\u001b[0m\u001b[0;34m(\u001b[0m\u001b[0mmean_coefs\u001b[0m\u001b[0;34m)\u001b[0m\u001b[0;34m)\u001b[0m\u001b[0;34m]\u001b[0m\u001b[0;34m\u001b[0m\u001b[0m\n\u001b[0;32m---> 85\u001b[0;31m     \u001b[0mabs_mean_coefs\u001b[0m \u001b[0;34m=\u001b[0m \u001b[0mnp\u001b[0m\u001b[0;34m.\u001b[0m\u001b[0mabs\u001b[0m\u001b[0;34m(\u001b[0m\u001b[0mmean_coefs\u001b[0m\u001b[0;34m[\u001b[0m\u001b[0;36m0\u001b[0m\u001b[0;34m,\u001b[0m \u001b[0;34m:\u001b[0m\u001b[0;34m]\u001b[0m\u001b[0;34m)\u001b[0m\u001b[0;34m\u001b[0m\u001b[0m\n\u001b[0m\u001b[1;32m     86\u001b[0m     \u001b[0mcoefs_count\u001b[0m \u001b[0;34m=\u001b[0m \u001b[0mlen\u001b[0m\u001b[0;34m(\u001b[0m\u001b[0mabs_mean_coefs\u001b[0m\u001b[0;34m)\u001b[0m\u001b[0;34m\u001b[0m\u001b[0m\n\u001b[1;32m     87\u001b[0m \u001b[0;34m\u001b[0m\u001b[0m\n",
      "\u001b[0;31mIndexError\u001b[0m: invalid index to scalar variable."
     ]
    }
   ],
   "source": [
    "build_model(itera=1, size=0.25, norm=\"l2\", random=\"Yes\", c_start=-5, c_end=5)"
   ]
  },
  {
   "cell_type": "code",
   "execution_count": null,
   "metadata": {
    "collapsed": true
   },
   "outputs": [],
   "source": []
  }
 ],
 "metadata": {
  "kernelspec": {
   "display_name": "Python [conda env:ml-env]",
   "language": "python",
   "name": "conda-env-ml-env-py"
  },
  "language_info": {
   "codemirror_mode": {
    "name": "ipython",
    "version": 3
   },
   "file_extension": ".py",
   "mimetype": "text/x-python",
   "name": "python",
   "nbconvert_exporter": "python",
   "pygments_lexer": "ipython3",
   "version": "3.6.6"
  },
  "latex_envs": {
   "LaTeX_envs_menu_present": true,
   "autoclose": false,
   "autocomplete": true,
   "bibliofile": "biblio.bib",
   "cite_by": "apalike",
   "current_citInitial": 1,
   "eqLabelWithNumbers": true,
   "eqNumInitial": 1,
   "hotkeys": {
    "equation": "Ctrl-E",
    "itemize": "Ctrl-I"
   },
   "labels_anchors": false,
   "latex_user_defs": false,
   "report_style_numbering": false,
   "user_envs_cfg": false
  },
  "toc": {
   "nav_menu": {},
   "number_sections": true,
   "sideBar": true,
   "skip_h1_title": false,
   "title_cell": "Table of Contents",
   "title_sidebar": "Contents",
   "toc_cell": false,
   "toc_position": {},
   "toc_section_display": true,
   "toc_window_display": false
  },
  "varInspector": {
   "cols": {
    "lenName": 16,
    "lenType": 16,
    "lenVar": 40
   },
   "kernels_config": {
    "python": {
     "delete_cmd_postfix": "",
     "delete_cmd_prefix": "del ",
     "library": "var_list.py",
     "varRefreshCmd": "print(var_dic_list())"
    },
    "r": {
     "delete_cmd_postfix": ") ",
     "delete_cmd_prefix": "rm(",
     "library": "var_list.r",
     "varRefreshCmd": "cat(var_dic_list()) "
    }
   },
   "types_to_exclude": [
    "module",
    "function",
    "builtin_function_or_method",
    "instance",
    "_Feature"
   ],
   "window_display": false
  }
 },
 "nbformat": 4,
 "nbformat_minor": 2
}
